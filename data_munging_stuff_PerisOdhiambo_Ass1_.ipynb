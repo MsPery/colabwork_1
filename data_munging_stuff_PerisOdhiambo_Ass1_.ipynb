{
  "cells": [
    {
      "cell_type": "markdown",
      "metadata": {
        "id": "view-in-github",
        "colab_type": "text"
      },
      "source": [
        "<a href=\"https://colab.research.google.com/github/MsPery/colabwork_1/blob/main/data_munging_stuff_PerisOdhiambo_Ass1_.ipynb\" target=\"_parent\"><img src=\"https://colab.research.google.com/assets/colab-badge.svg\" alt=\"Open In Colab\"/></a>"
      ]
    },
    {
      "cell_type": "code",
      "execution_count": null,
      "metadata": {
        "id": "xXegPwA2h33D"
      },
      "outputs": [],
      "source": [
        "import pandas as pd"
      ]
    },
    {
      "cell_type": "code",
      "source": [
        "arrest = pd.read_csv('/content/drive/MyDrive/dataset/Arrest_Data_from_2010_to_Present.csv')"
      ],
      "metadata": {
        "colab": {
          "base_uri": "https://localhost:8080/"
        },
        "id": "1gZ10mEIaUBf",
        "outputId": "1df5cd28-1c37-4eee-e24a-09e56ee7b333"
      },
      "execution_count": null,
      "outputs": [
        {
          "output_type": "stream",
          "name": "stderr",
          "text": [
            "/usr/local/lib/python3.8/dist-packages/IPython/core/interactiveshell.py:3326: DtypeWarning: Columns (0) have mixed types.Specify dtype option on import or set low_memory=False.\n",
            "  exec(code_obj, self.user_global_ns, self.user_ns)\n"
          ]
        }
      ]
    },
    {
      "cell_type": "code",
      "source": [
        "from google.colab import drive\n",
        "drive.mount('/content/drive')\n"
      ],
      "metadata": {
        "colab": {
          "base_uri": "https://localhost:8080/"
        },
        "id": "BVVNGXy8afLI",
        "outputId": "9e4cedce-ec23-444d-f951-5833cecab436"
      },
      "execution_count": null,
      "outputs": [
        {
          "output_type": "stream",
          "name": "stdout",
          "text": [
            "Drive already mounted at /content/drive; to attempt to forcibly remount, call drive.mount(\"/content/drive\", force_remount=True).\n"
          ]
        }
      ]
    },
    {
      "cell_type": "code",
      "source": [
        "arrest.head()"
      ],
      "metadata": {
        "colab": {
          "base_uri": "https://localhost:8080/",
          "height": 409
        },
        "id": "D6I8LPdT-GOC",
        "outputId": "eda2a539-35ee-4b55-8700-e2e259feac99"
      },
      "execution_count": null,
      "outputs": [
        {
          "output_type": "execute_result",
          "data": {
            "text/plain": [
              "   Report ID Arrest Date    Time  Area ID  Area Name  Reporting District  \\\n",
              "0    4248313  02/24/2015  1310.0     20.0    Olympic              2022.0   \n",
              "1  191811472  05/03/2019  1700.0     18.0  Southeast              1802.0   \n",
              "2    4254777  02/26/2015  2010.0     19.0    Mission              1985.0   \n",
              "3    5614161  04/29/2019  1040.0      8.0    West LA               842.0   \n",
              "4    5615197  04/30/2019   615.0      6.0  Hollywood               663.0   \n",
              "\n",
              "    Age Sex Code Descent Code  Charge Group Code Charge Group Description  \\\n",
              "0  37.0        M            H                5.0                 Burglary   \n",
              "1  23.0        F            B                NaN                      NaN   \n",
              "2  22.0        M            H                6.0                  Larceny   \n",
              "3  41.0        M            H                3.0                  Robbery   \n",
              "4  27.0        M            O                5.0                 Burglary   \n",
              "\n",
              "  Arrest Type Code     Charge Charge Description  \\\n",
              "0                F      459PC           BURGLARY   \n",
              "1                M  653.22 PC                NaN   \n",
              "2                M    459.5PC        SHOPLIFTING   \n",
              "3                F      211PC            ROBBERY   \n",
              "4                F      459PC           BURGLARY   \n",
              "\n",
              "                                    Address Cross Street              Location  \n",
              "0                                       5TH       WILTON   (34.0653, -118.314)  \n",
              "1                                      91ST     FIGUEROA  (33.9543, -118.2827)  \n",
              "2   8300    VAN NUYS                     BL          NaN  (34.2216, -118.4488)  \n",
              "3  11600    WILSHIRE                     BL          NaN  (34.0508, -118.4592)  \n",
              "4                                   LA BREA    LEXINGTON  (34.0907, -118.3384)  "
            ],
            "text/html": [
              "\n",
              "  <div id=\"df-a0840366-0a2d-4c6f-9ed8-e0679c4ce50d\">\n",
              "    <div class=\"colab-df-container\">\n",
              "      <div>\n",
              "<style scoped>\n",
              "    .dataframe tbody tr th:only-of-type {\n",
              "        vertical-align: middle;\n",
              "    }\n",
              "\n",
              "    .dataframe tbody tr th {\n",
              "        vertical-align: top;\n",
              "    }\n",
              "\n",
              "    .dataframe thead th {\n",
              "        text-align: right;\n",
              "    }\n",
              "</style>\n",
              "<table border=\"1\" class=\"dataframe\">\n",
              "  <thead>\n",
              "    <tr style=\"text-align: right;\">\n",
              "      <th></th>\n",
              "      <th>Report ID</th>\n",
              "      <th>Arrest Date</th>\n",
              "      <th>Time</th>\n",
              "      <th>Area ID</th>\n",
              "      <th>Area Name</th>\n",
              "      <th>Reporting District</th>\n",
              "      <th>Age</th>\n",
              "      <th>Sex Code</th>\n",
              "      <th>Descent Code</th>\n",
              "      <th>Charge Group Code</th>\n",
              "      <th>Charge Group Description</th>\n",
              "      <th>Arrest Type Code</th>\n",
              "      <th>Charge</th>\n",
              "      <th>Charge Description</th>\n",
              "      <th>Address</th>\n",
              "      <th>Cross Street</th>\n",
              "      <th>Location</th>\n",
              "    </tr>\n",
              "  </thead>\n",
              "  <tbody>\n",
              "    <tr>\n",
              "      <th>0</th>\n",
              "      <td>4248313</td>\n",
              "      <td>02/24/2015</td>\n",
              "      <td>1310.0</td>\n",
              "      <td>20.0</td>\n",
              "      <td>Olympic</td>\n",
              "      <td>2022.0</td>\n",
              "      <td>37.0</td>\n",
              "      <td>M</td>\n",
              "      <td>H</td>\n",
              "      <td>5.0</td>\n",
              "      <td>Burglary</td>\n",
              "      <td>F</td>\n",
              "      <td>459PC</td>\n",
              "      <td>BURGLARY</td>\n",
              "      <td>5TH</td>\n",
              "      <td>WILTON</td>\n",
              "      <td>(34.0653, -118.314)</td>\n",
              "    </tr>\n",
              "    <tr>\n",
              "      <th>1</th>\n",
              "      <td>191811472</td>\n",
              "      <td>05/03/2019</td>\n",
              "      <td>1700.0</td>\n",
              "      <td>18.0</td>\n",
              "      <td>Southeast</td>\n",
              "      <td>1802.0</td>\n",
              "      <td>23.0</td>\n",
              "      <td>F</td>\n",
              "      <td>B</td>\n",
              "      <td>NaN</td>\n",
              "      <td>NaN</td>\n",
              "      <td>M</td>\n",
              "      <td>653.22 PC</td>\n",
              "      <td>NaN</td>\n",
              "      <td>91ST</td>\n",
              "      <td>FIGUEROA</td>\n",
              "      <td>(33.9543, -118.2827)</td>\n",
              "    </tr>\n",
              "    <tr>\n",
              "      <th>2</th>\n",
              "      <td>4254777</td>\n",
              "      <td>02/26/2015</td>\n",
              "      <td>2010.0</td>\n",
              "      <td>19.0</td>\n",
              "      <td>Mission</td>\n",
              "      <td>1985.0</td>\n",
              "      <td>22.0</td>\n",
              "      <td>M</td>\n",
              "      <td>H</td>\n",
              "      <td>6.0</td>\n",
              "      <td>Larceny</td>\n",
              "      <td>M</td>\n",
              "      <td>459.5PC</td>\n",
              "      <td>SHOPLIFTING</td>\n",
              "      <td>8300    VAN NUYS                     BL</td>\n",
              "      <td>NaN</td>\n",
              "      <td>(34.2216, -118.4488)</td>\n",
              "    </tr>\n",
              "    <tr>\n",
              "      <th>3</th>\n",
              "      <td>5614161</td>\n",
              "      <td>04/29/2019</td>\n",
              "      <td>1040.0</td>\n",
              "      <td>8.0</td>\n",
              "      <td>West LA</td>\n",
              "      <td>842.0</td>\n",
              "      <td>41.0</td>\n",
              "      <td>M</td>\n",
              "      <td>H</td>\n",
              "      <td>3.0</td>\n",
              "      <td>Robbery</td>\n",
              "      <td>F</td>\n",
              "      <td>211PC</td>\n",
              "      <td>ROBBERY</td>\n",
              "      <td>11600    WILSHIRE                     BL</td>\n",
              "      <td>NaN</td>\n",
              "      <td>(34.0508, -118.4592)</td>\n",
              "    </tr>\n",
              "    <tr>\n",
              "      <th>4</th>\n",
              "      <td>5615197</td>\n",
              "      <td>04/30/2019</td>\n",
              "      <td>615.0</td>\n",
              "      <td>6.0</td>\n",
              "      <td>Hollywood</td>\n",
              "      <td>663.0</td>\n",
              "      <td>27.0</td>\n",
              "      <td>M</td>\n",
              "      <td>O</td>\n",
              "      <td>5.0</td>\n",
              "      <td>Burglary</td>\n",
              "      <td>F</td>\n",
              "      <td>459PC</td>\n",
              "      <td>BURGLARY</td>\n",
              "      <td>LA BREA</td>\n",
              "      <td>LEXINGTON</td>\n",
              "      <td>(34.0907, -118.3384)</td>\n",
              "    </tr>\n",
              "  </tbody>\n",
              "</table>\n",
              "</div>\n",
              "      <button class=\"colab-df-convert\" onclick=\"convertToInteractive('df-a0840366-0a2d-4c6f-9ed8-e0679c4ce50d')\"\n",
              "              title=\"Convert this dataframe to an interactive table.\"\n",
              "              style=\"display:none;\">\n",
              "        \n",
              "  <svg xmlns=\"http://www.w3.org/2000/svg\" height=\"24px\"viewBox=\"0 0 24 24\"\n",
              "       width=\"24px\">\n",
              "    <path d=\"M0 0h24v24H0V0z\" fill=\"none\"/>\n",
              "    <path d=\"M18.56 5.44l.94 2.06.94-2.06 2.06-.94-2.06-.94-.94-2.06-.94 2.06-2.06.94zm-11 1L8.5 8.5l.94-2.06 2.06-.94-2.06-.94L8.5 2.5l-.94 2.06-2.06.94zm10 10l.94 2.06.94-2.06 2.06-.94-2.06-.94-.94-2.06-.94 2.06-2.06.94z\"/><path d=\"M17.41 7.96l-1.37-1.37c-.4-.4-.92-.59-1.43-.59-.52 0-1.04.2-1.43.59L10.3 9.45l-7.72 7.72c-.78.78-.78 2.05 0 2.83L4 21.41c.39.39.9.59 1.41.59.51 0 1.02-.2 1.41-.59l7.78-7.78 2.81-2.81c.8-.78.8-2.07 0-2.86zM5.41 20L4 18.59l7.72-7.72 1.47 1.35L5.41 20z\"/>\n",
              "  </svg>\n",
              "      </button>\n",
              "      \n",
              "  <style>\n",
              "    .colab-df-container {\n",
              "      display:flex;\n",
              "      flex-wrap:wrap;\n",
              "      gap: 12px;\n",
              "    }\n",
              "\n",
              "    .colab-df-convert {\n",
              "      background-color: #E8F0FE;\n",
              "      border: none;\n",
              "      border-radius: 50%;\n",
              "      cursor: pointer;\n",
              "      display: none;\n",
              "      fill: #1967D2;\n",
              "      height: 32px;\n",
              "      padding: 0 0 0 0;\n",
              "      width: 32px;\n",
              "    }\n",
              "\n",
              "    .colab-df-convert:hover {\n",
              "      background-color: #E2EBFA;\n",
              "      box-shadow: 0px 1px 2px rgba(60, 64, 67, 0.3), 0px 1px 3px 1px rgba(60, 64, 67, 0.15);\n",
              "      fill: #174EA6;\n",
              "    }\n",
              "\n",
              "    [theme=dark] .colab-df-convert {\n",
              "      background-color: #3B4455;\n",
              "      fill: #D2E3FC;\n",
              "    }\n",
              "\n",
              "    [theme=dark] .colab-df-convert:hover {\n",
              "      background-color: #434B5C;\n",
              "      box-shadow: 0px 1px 3px 1px rgba(0, 0, 0, 0.15);\n",
              "      filter: drop-shadow(0px 1px 2px rgba(0, 0, 0, 0.3));\n",
              "      fill: #FFFFFF;\n",
              "    }\n",
              "  </style>\n",
              "\n",
              "      <script>\n",
              "        const buttonEl =\n",
              "          document.querySelector('#df-a0840366-0a2d-4c6f-9ed8-e0679c4ce50d button.colab-df-convert');\n",
              "        buttonEl.style.display =\n",
              "          google.colab.kernel.accessAllowed ? 'block' : 'none';\n",
              "\n",
              "        async function convertToInteractive(key) {\n",
              "          const element = document.querySelector('#df-a0840366-0a2d-4c6f-9ed8-e0679c4ce50d');\n",
              "          const dataTable =\n",
              "            await google.colab.kernel.invokeFunction('convertToInteractive',\n",
              "                                                     [key], {});\n",
              "          if (!dataTable) return;\n",
              "\n",
              "          const docLinkHtml = 'Like what you see? Visit the ' +\n",
              "            '<a target=\"_blank\" href=https://colab.research.google.com/notebooks/data_table.ipynb>data table notebook</a>'\n",
              "            + ' to learn more about interactive tables.';\n",
              "          element.innerHTML = '';\n",
              "          dataTable['output_type'] = 'display_data';\n",
              "          await google.colab.output.renderOutput(dataTable, element);\n",
              "          const docLink = document.createElement('div');\n",
              "          docLink.innerHTML = docLinkHtml;\n",
              "          element.appendChild(docLink);\n",
              "        }\n",
              "      </script>\n",
              "    </div>\n",
              "  </div>\n",
              "  "
            ]
          },
          "metadata": {},
          "execution_count": 5
        }
      ]
    },
    {
      "cell_type": "markdown",
      "source": [
        "***bookings of arrestees that were made in 2018***"
      ],
      "metadata": {
        "id": "L7I3tSYqmmd7"
      }
    },
    {
      "cell_type": "code",
      "source": [
        "arrest['Arrest Date'] = pd.to_datetime(arrest['Arrest Date'])"
      ],
      "metadata": {
        "id": "Wn3g7aNRSF4_"
      },
      "execution_count": null,
      "outputs": []
    },
    {
      "cell_type": "code",
      "source": [
        "arrests_2018 = arrest[arrest['Arrest Date'].dt.year == 2018]"
      ],
      "metadata": {
        "id": "z2vR8N5qSmxm"
      },
      "execution_count": null,
      "outputs": []
    },
    {
      "cell_type": "code",
      "source": [
        "arrest_bookings_2018 = arrests_2018['Report ID'].nunique()"
      ],
      "metadata": {
        "id": "w2nyakv7SwLb"
      },
      "execution_count": null,
      "outputs": []
    },
    {
      "cell_type": "code",
      "source": [
        "print(\"The number of bookings of arrestees made in 2018 was:\", arrest_bookings_2018)"
      ],
      "metadata": {
        "colab": {
          "base_uri": "https://localhost:8080/"
        },
        "id": "u1kRKwxFS0O-",
        "outputId": "5d356aea-0bd5-4564-cfa9-091d25de194e"
      },
      "execution_count": null,
      "outputs": [
        {
          "output_type": "stream",
          "name": "stdout",
          "text": [
            "The number of bookings of arrestees made in 2018 was: 42381\n"
          ]
        }
      ]
    },
    {
      "cell_type": "markdown",
      "source": [
        "***bookings of arrestees that were made in each area and the area that has the most arrests in 2018***"
      ],
      "metadata": {
        "id": "Vreu6YLjnMfj"
      }
    },
    {
      "cell_type": "code",
      "source": [
        "arrests_by_area = arrests_2018['Area Name'].value_counts()"
      ],
      "metadata": {
        "id": "-0kTckFnVGdH"
      },
      "execution_count": null,
      "outputs": []
    },
    {
      "cell_type": "code",
      "source": [
        "max_arrests_area = arrests_by_area.idxmax()"
      ],
      "metadata": {
        "id": "rtb751vPVQZV"
      },
      "execution_count": null,
      "outputs": []
    },
    {
      "cell_type": "code",
      "source": [
        "print(\"Number of bookings made in each area in 2018:\\n\", arrests_by_area)\n",
        "print(\"\\nThe area with the most arrests in 2018 was:\", max_arrests_area)"
      ],
      "metadata": {
        "colab": {
          "base_uri": "https://localhost:8080/"
        },
        "id": "kg3v7CLXVWZG",
        "outputId": "f70a98ec-4e2a-402c-91d5-e0422d63ccb5"
      },
      "execution_count": null,
      "outputs": [
        {
          "output_type": "stream",
          "name": "stdout",
          "text": [
            "Number of bookings made in each area in 2018:\n",
            " Central        5621\n",
            "Hollywood      5378\n",
            "Rampart        4243\n",
            "Pacific        3545\n",
            "Van Nuys       2332\n",
            "N Hollywood    2052\n",
            "Southwest      1768\n",
            "Mission        1701\n",
            "Newton         1638\n",
            "Harbor         1628\n",
            "Northeast      1579\n",
            "77th Street    1457\n",
            "West LA        1415\n",
            "Olympic        1350\n",
            "Devonshire     1336\n",
            "Topanga        1208\n",
            "Hollenbeck      995\n",
            "West Valley     955\n",
            "Foothill        801\n",
            "Southeast       764\n",
            "Wilshire        615\n",
            "Name: Area Name, dtype: int64\n",
            "\n",
            "The area with the most arrests in 2018 was: Central\n"
          ]
        }
      ]
    },
    {
      "cell_type": "markdown",
      "source": [
        "***average age of arrestees per each charge group***"
      ],
      "metadata": {
        "id": "XgJ0yn2snkVX"
      }
    },
    {
      "cell_type": "code",
      "source": [
        "arrests_2018 = arrests_2018[~arrests_2018['Charge Group Description'].isin\n",
        "                            (['Pre-Delinquency', 'Non-Criminal Detention'])]"
      ],
      "metadata": {
        "id": "hwFjW4piVrMl"
      },
      "execution_count": null,
      "outputs": []
    },
    {
      "cell_type": "code",
      "source": [
        "arrests_2018 = arrests_2018[arrests_2018['Charge Group Description'].notna()]"
      ],
      "metadata": {
        "id": "6GgMi0rpXWgd"
      },
      "execution_count": null,
      "outputs": []
    },
    {
      "cell_type": "code",
      "source": [
        "avg_age_by_charge_group = arrests_2018.groupby('Charge Group Description')['Age'].mean()"
      ],
      "metadata": {
        "id": "KAU3J7TEXbm3"
      },
      "execution_count": null,
      "outputs": []
    },
    {
      "cell_type": "code",
      "source": [
        "print(\"Average age of arrestees per charge group in 2018:\")\n",
        "print(avg_age_by_charge_group)"
      ],
      "metadata": {
        "colab": {
          "base_uri": "https://localhost:8080/"
        },
        "id": "YHVPFOyGXrHZ",
        "outputId": "d19c11dc-3129-4e22-ccb4-65df826c9747"
      },
      "execution_count": null,
      "outputs": [
        {
          "output_type": "stream",
          "name": "stdout",
          "text": [
            "Average age of arrestees per charge group in 2018:\n",
            "Charge Group Description\n",
            "Against Family/Child              36.950355\n",
            "Aggravated Assault                33.907359\n",
            "Burglary                          30.366755\n",
            "Disorderly Conduct                41.924290\n",
            "Disturbing the Peace              39.727273\n",
            "Driving Under Influence           34.428291\n",
            "Drunkeness                        44.219972\n",
            "Federal Offenses                  34.600000\n",
            "Forgery/Counterfeit               35.066667\n",
            "Fraud/Embezzlement                35.689076\n",
            "Gambling                          40.557047\n",
            "Homicide                          30.896552\n",
            "Larceny                           32.725796\n",
            "Liquor Laws                       42.540955\n",
            "Miscellaneous Other Violations    36.252076\n",
            "Miscellaneous Other Violatio{     17.000000\n",
            "Moving Traffic Violations         33.085622\n",
            "Narcotic Drug Laws                36.097954\n",
            "Other Assaults                    33.451139\n",
            "Prostitution/Allied               31.620470\n",
            "Rape                              36.203704\n",
            "Receive Stolen Property           33.687500\n",
            "Robbery                           27.538739\n",
            "Sex (except rape/prst)            36.555838\n",
            "Vehicle Theft                     30.095624\n",
            "Weapon (carry/poss)               29.477178\n",
            "Name: Age, dtype: float64\n"
          ]
        }
      ]
    },
    {
      "cell_type": "markdown",
      "source": [
        "***95% quantile of the age of the arrestee in 2018 for the considered charge groups***"
      ],
      "metadata": {
        "id": "wXItYWS8nuCS"
      }
    },
    {
      "cell_type": "code",
      "source": [
        "considered_charge_groups = ['Vehicle Theft', 'Robbery', 'Burglary', 'Receive Stolen Property']\n",
        "arrests_2018 = arrests_2018[arrests_2018['Charge Group Description'].isin(considered_charge_groups)]\n"
      ],
      "metadata": {
        "id": "Hll2dB4yY_HW"
      },
      "execution_count": null,
      "outputs": []
    },
    {
      "cell_type": "code",
      "source": [
        "quantile_95th = arrests_2018['Age'].quantile(0.95)"
      ],
      "metadata": {
        "id": "RnE9z3ogaFMi"
      },
      "execution_count": null,
      "outputs": []
    },
    {
      "cell_type": "code",
      "source": [
        "print(\"95% quantile of the age of the arrestee in 2018 for the considered charge groups:\")\n",
        "print(\"is:\", quantile_95th)"
      ],
      "metadata": {
        "colab": {
          "base_uri": "https://localhost:8080/"
        },
        "id": "JF5rCms6aVoU",
        "outputId": "ad814041-ae6c-44de-8cb0-2f5ae1c1c94e"
      },
      "execution_count": null,
      "outputs": [
        {
          "output_type": "stream",
          "name": "stdout",
          "text": [
            "95% quantile of the age of the arrestee in 2018 for the considered charge groups:\n",
            "is: 52.0\n"
          ]
        }
      ]
    },
    {
      "cell_type": "markdown",
      "source": [
        "***arrest incidents occurred within 2 km from the Bradbury Building in 2018***"
      ],
      "metadata": {
        "id": "BBHx4s_4n5en"
      }
    },
    {
      "cell_type": "code",
      "source": [
        "import numpy as np\n"
      ],
      "metadata": {
        "id": "cpxZc_J4gpfF"
      },
      "execution_count": null,
      "outputs": []
    },
    {
      "cell_type": "code",
      "source": [
        "arrests_2018 = arrests_2018[~((arrests_2018['Location'].str.startswith('0')) & \n",
        "                              (arrests_2018['Location'].str.endswith('0'))) ]"
      ],
      "metadata": {
        "id": "8206Z9R3bj0c"
      },
      "execution_count": null,
      "outputs": []
    },
    {
      "cell_type": "code",
      "source": [
        "lat1, lon1 = 34.050536, -118.247861"
      ],
      "metadata": {
        "id": "VE3dCHh2dP8t"
      },
      "execution_count": null,
      "outputs": []
    },
    {
      "cell_type": "code",
      "source": [
        "def haversine(lat1, lon1, lat2, lon2):\n",
        "    R = 6371  # radius of the Earth in km\n",
        "    lat1, lon1, lat2, lon2 = map(np.radians, [lat1, lon1, lat2, lon2])\n",
        "    dlat = lat2 - lat1\n",
        "    dlon = lon2 - lon1\n",
        "    a = np.sin(dlat/2)**2 + np.cos(lat1) * np.cos(lat2) * np.sin(dlon/2)**2\n",
        "    c = 2 * np.arcsin(np.sqrt(a))\n",
        "    distance = R * c\n",
        "    return distance"
      ],
      "metadata": {
        "id": "czLnPy9XdT_8"
      },
      "execution_count": null,
      "outputs": []
    },
    {
      "cell_type": "code",
      "source": [
        "arrests_2018[['Latitude', 'Longitude']] = arrests_2018['Location'].str.split(',', expand=True)\n"
      ],
      "metadata": {
        "id": "4K61ZqWOfjPF"
      },
      "execution_count": null,
      "outputs": []
    },
    {
      "cell_type": "code",
      "source": [
        "arrests_2018['Latitude'] = pd.to_numeric(arrests_2018['Latitude'], errors='coerce')\n",
        "arrests_2018['Longitude'] = pd.to_numeric(arrests_2018['Longitude'], errors='coerce')"
      ],
      "metadata": {
        "id": "_s_MHw0BfwJx"
      },
      "execution_count": null,
      "outputs": []
    },
    {
      "cell_type": "code",
      "source": [
        "arrests_2018['Distance'] = arrests_2018.apply(lambda row: haversine(lat1, lon1, row['Latitude'], row['Longitude']) \n",
        "if not np.isnan(row['Latitude']) and not np.isnan(row['Longitude']) \n",
        "else np.nan, axis=1)"
      ],
      "metadata": {
        "id": "BL3InNdif5Mx"
      },
      "execution_count": null,
      "outputs": []
    },
    {
      "cell_type": "code",
      "source": [
        "arrests_within_2km = (arrests_2018['Distance'] <= 2).sum()"
      ],
      "metadata": {
        "id": "gmvcD_18g3Si"
      },
      "execution_count": null,
      "outputs": []
    },
    {
      "cell_type": "code",
      "source": [
        "print(\"Number of arrest incidents that occurred within 2 km from the Bradbury Building in 2018:\", arrests_within_2km)"
      ],
      "metadata": {
        "colab": {
          "base_uri": "https://localhost:8080/"
        },
        "id": "AfeCQKbHhC-F",
        "outputId": "8095a2ac-c35b-46bd-bda2-8902854d0f8d"
      },
      "execution_count": null,
      "outputs": [
        {
          "output_type": "stream",
          "name": "stdout",
          "text": [
            "Number of arrest incidents that occurred within 2 km from the Bradbury Building in 2018: 0\n"
          ]
        }
      ]
    },
    {
      "cell_type": "markdown",
      "source": [
        "***number of crime arrests in 2019***"
      ],
      "metadata": {
        "id": "vdRFL4eaoA5o"
      }
    },
    {
      "cell_type": "code",
      "source": [
        "from sklearn.linear_model import LinearRegression"
      ],
      "metadata": {
        "id": "n1tz8wyqhI6N"
      },
      "execution_count": null,
      "outputs": []
    },
    {
      "cell_type": "code",
      "source": [
        "arrests = arrest[arrest['Arrest Date'].dt.year.between(2010, 2018)]"
      ],
      "metadata": {
        "id": "rnBex-2tjG_M"
      },
      "execution_count": null,
      "outputs": []
    },
    {
      "cell_type": "code",
      "source": [
        "arrests_by_year = arrests.groupby('Arrest Date').size().reset_index(name='Num Arrests')"
      ],
      "metadata": {
        "id": "yuCyABuSjh_I"
      },
      "execution_count": null,
      "outputs": []
    },
    {
      "cell_type": "code",
      "source": [
        "model = LinearRegression()\n",
        "model.fit(arrests_by_year[['Arrest Date']], arrests_by_year['Num Arrests'])"
      ],
      "metadata": {
        "colab": {
          "base_uri": "https://localhost:8080/"
        },
        "id": "1-v8MnHokAeU",
        "outputId": "83e72176-cb3c-4364-e68b-ec756635a716"
      },
      "execution_count": null,
      "outputs": [
        {
          "output_type": "execute_result",
          "data": {
            "text/plain": [
              "LinearRegression()"
            ]
          },
          "metadata": {},
          "execution_count": 51
        }
      ]
    },
    {
      "cell_type": "code",
      "source": [
        "arrests_2019 = round(model.predict([[2019]])[0])"
      ],
      "metadata": {
        "colab": {
          "base_uri": "https://localhost:8080/"
        },
        "id": "hIYc85SgkSRx",
        "outputId": "01609715-3dbd-4371-857c-81d4c9e5cbcf"
      },
      "execution_count": null,
      "outputs": [
        {
          "output_type": "stream",
          "name": "stderr",
          "text": [
            "/usr/local/lib/python3.8/dist-packages/sklearn/base.py:450: UserWarning: X does not have valid feature names, but LinearRegression was fitted with feature names\n",
            "  warnings.warn(\n"
          ]
        }
      ]
    },
    {
      "cell_type": "code",
      "source": [
        "print(f\"Predicted number of crime arrests in 2019: {arrests_2019}\")"
      ],
      "metadata": {
        "colab": {
          "base_uri": "https://localhost:8080/"
        },
        "id": "gOqVo9AZkZzC",
        "outputId": "667e0157-9471-43ea-d33d-582766210cb0"
      },
      "execution_count": null,
      "outputs": [
        {
          "output_type": "stream",
          "name": "stdout",
          "text": [
            "Predicted number of crime arrests in 2019: 1895\n"
          ]
        }
      ]
    },
    {
      "cell_type": "code",
      "source": [],
      "metadata": {
        "id": "l1j3OgfioS9c"
      },
      "execution_count": null,
      "outputs": []
    }
  ],
  "metadata": {
    "colab": {
      "provenance": [],
      "mount_file_id": "1ROSKWBjOfXGtTAExnvrIxVAvQP8-qLYd",
      "authorship_tag": "ABX9TyPWD9pJeIxkc5gr6i2jQ/ZX",
      "include_colab_link": true
    },
    "kernelspec": {
      "display_name": "Python 3",
      "name": "python3"
    },
    "language_info": {
      "name": "python"
    }
  },
  "nbformat": 4,
  "nbformat_minor": 0
}